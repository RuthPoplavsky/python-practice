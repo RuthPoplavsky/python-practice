{
  "cells": [
    {
      "cell_type": "markdown",
      "metadata": {
        "id": "view-in-github",
        "colab_type": "text"
      },
      "source": [
        "<a href=\"https://colab.research.google.com/github/alevant/mlcourse-Nov22/blob/main/Multiple_regression_4exam.ipynb\" target=\"_parent\"><img src=\"https://colab.research.google.com/assets/colab-badge.svg\" alt=\"Open In Colab\"/></a>"
      ]
    },
    {
      "cell_type": "markdown",
      "metadata": {
        "id": "M27qF7CTrBqc"
      },
      "source": [
        "# TASK #1: UNDERSTAND THE PROBLEM STATEMENT"
      ]
    },
    {
      "cell_type": "markdown",
      "source": [
        "We have a data set of addmission of the students to university based on the results of different tests and dependent variable: chance of admission \n",
        "We would like to build the model which helps us to estimate chance of admission"
      ],
      "metadata": {
        "id": "vkThm9HxA9yV"
      }
    },
    {
      "cell_type": "markdown",
      "metadata": {
        "id": "zKmFmyaGunc7"
      },
      "source": [
        "# TASK #2: IMPORT LIBRARIES AND DATASET"
      ]
    },
    {
      "cell_type": "markdown",
      "source": [
        "Import all needed packages"
      ],
      "metadata": {
        "id": "EwXl9ELjH1V_"
      }
    },
    {
      "cell_type": "code",
      "execution_count": null,
      "metadata": {
        "id": "S0Cx3743urFY"
      },
      "outputs": [],
      "source": []
    },
    {
      "cell_type": "markdown",
      "source": [
        "Read csv file called admission_data.csv"
      ],
      "metadata": {
        "id": "bLCVTG44B7U3"
      }
    },
    {
      "cell_type": "code",
      "execution_count": null,
      "metadata": {
        "id": "q4_wPDKCu5Uc"
      },
      "outputs": [],
      "source": [
        "\n"
      ]
    },
    {
      "cell_type": "markdown",
      "source": [
        "Show first 10 entries if the data"
      ],
      "metadata": {
        "id": "Qh9duAK0CMF5"
      }
    },
    {
      "cell_type": "code",
      "source": [],
      "metadata": {
        "id": "DuoA7LSKCQKT"
      },
      "execution_count": null,
      "outputs": []
    },
    {
      "cell_type": "markdown",
      "source": [
        "Drop Serial No. column"
      ],
      "metadata": {
        "id": "zyFyNQkyCIpJ"
      }
    },
    {
      "cell_type": "code",
      "execution_count": null,
      "metadata": {
        "id": "E7puy9-xxS4A"
      },
      "outputs": [],
      "source": []
    },
    {
      "cell_type": "markdown",
      "metadata": {
        "id": "tMcr7xqMQre2"
      },
      "source": [
        "# TASK #3: PERFORM EXPLORATORY DATA ANALYSIS"
      ]
    },
    {
      "cell_type": "markdown",
      "source": [
        "Check if there and Nan values and if yes replace them with average value of the feature"
      ],
      "metadata": {
        "id": "jUcUisKQC17g"
      }
    },
    {
      "cell_type": "code",
      "execution_count": null,
      "metadata": {
        "id": "6JYkJo9pYaet"
      },
      "outputs": [],
      "source": []
    },
    {
      "cell_type": "markdown",
      "source": [
        "Check types of all features"
      ],
      "metadata": {
        "id": "twzGBz0IDEKV"
      }
    },
    {
      "cell_type": "code",
      "execution_count": null,
      "metadata": {
        "id": "hMq3-KWOx0e1"
      },
      "outputs": [],
      "source": []
    },
    {
      "cell_type": "markdown",
      "source": [
        "Provide statistical summary of the features"
      ],
      "metadata": {
        "id": "t1lB0rqcDJJX"
      }
    },
    {
      "cell_type": "code",
      "source": [],
      "metadata": {
        "id": "f6kyvW-cEBjp"
      },
      "execution_count": null,
      "outputs": []
    },
    {
      "cell_type": "markdown",
      "source": [
        "Questions:\n",
        " \n",
        "\n",
        "1.   What is mean of TOEFL score?\n",
        "2.   What is max of CGPA?\n",
        "1.   What is min chance to admit?\n",
        "\n",
        "\n",
        "\n",
        "\n"
      ],
      "metadata": {
        "id": "s1CjozW2DR0C"
      }
    },
    {
      "cell_type": "markdown",
      "metadata": {
        "id": "Y0GmpAjG3GiH"
      },
      "source": [
        "# TASK #4: PERFORM DATA VISUALIZATION"
      ]
    },
    {
      "cell_type": "markdown",
      "source": [
        "Using seaborn library show with one command correlation between each pair of variables and histograms of all single variables"
      ],
      "metadata": {
        "id": "NN7NUWhFEWf2"
      }
    },
    {
      "cell_type": "code",
      "execution_count": null,
      "metadata": {
        "id": "Ka9uFRXSkWHw",
        "scrolled": true
      },
      "outputs": [],
      "source": []
    },
    {
      "cell_type": "markdown",
      "source": [
        "Question:  \n",
        "1.   Which features 2 show highest correlation with \"chance of admission\"?\n",
        "\n",
        "2.   Which feature is less correlated to \"chance of admission\"?\n",
        "\n",
        " "
      ],
      "metadata": {
        "id": "BGmqSIzZE762"
      }
    },
    {
      "cell_type": "markdown",
      "source": [
        "Check yourself using  df.corr"
      ],
      "metadata": {
        "id": "bNQylhJWFdds"
      }
    },
    {
      "cell_type": "markdown",
      "metadata": {
        "id": "53qDZFRn3-S1"
      },
      "source": [
        "# TASK #5: CREATE SET FOR MODEL TRAINING \n",
        "\n",
        "\n",
        "\n"
      ]
    },
    {
      "cell_type": "markdown",
      "source": [
        "Separate your df to X=independent variables and y=dependent variable (chance of admission)"
      ],
      "metadata": {
        "id": "C0VsdBBiGI1O"
      }
    },
    {
      "cell_type": "code",
      "source": [],
      "metadata": {
        "id": "gdc8zhAbGiZw"
      },
      "execution_count": null,
      "outputs": []
    },
    {
      "cell_type": "markdown",
      "source": [
        "Rescale X and y and split them to train and test set , using 15% for test set:"
      ],
      "metadata": {
        "id": "gx6MUHLaGtBG"
      }
    },
    {
      "cell_type": "code",
      "execution_count": null,
      "metadata": {
        "id": "GoReLFfnA6uF"
      },
      "outputs": [],
      "source": []
    },
    {
      "cell_type": "markdown",
      "metadata": {
        "id": "gLdoRTv5913-"
      },
      "source": [
        "# TASK #6: TRAIN AND EVALUATE A LINEAR REGRESSION MODEL"
      ]
    },
    {
      "cell_type": "markdown",
      "source": [
        "Train linear model and print out:\n",
        "\n",
        "\n",
        "1.   MSE of the train data\n",
        "2.   R2 of the train data\n",
        "3.   R2_adj of the train data\n",
        "4.   Model coeficients that you have obtained\n",
        "\n",
        "\n"
      ],
      "metadata": {
        "id": "RpCyR1IpHLL7"
      }
    },
    {
      "cell_type": "code",
      "execution_count": null,
      "metadata": {
        "id": "aSdvE-bR914A"
      },
      "outputs": [],
      "source": []
    },
    {
      "cell_type": "markdown",
      "source": [
        "Plot: \n",
        " \n",
        "\n",
        "1.   graph of trained vs predicted chance of admission  \n",
        "2.   residules. Are they random?\n",
        "\n"
      ],
      "metadata": {
        "id": "8a-JaFf_IIWD"
      }
    },
    {
      "cell_type": "markdown",
      "source": [
        "Make prediction on test data and calculate:\n",
        "\n",
        "\n",
        "1.  MSE of test data \n",
        "2.  R2 of test data\n",
        "3.  R2 adj of test data\n",
        "\n"
      ],
      "metadata": {
        "id": "rPCy4lktIqVA"
      }
    },
    {
      "cell_type": "code",
      "execution_count": null,
      "metadata": {
        "id": "Fnyf9Gck914C"
      },
      "outputs": [],
      "source": [
        "\n"
      ]
    },
    {
      "cell_type": "markdown",
      "source": [
        "Plot graph of test data - predicted vs actual chance of admission"
      ],
      "metadata": {
        "id": "TTlGHLaSJA2j"
      }
    },
    {
      "cell_type": "code",
      "source": [],
      "metadata": {
        "id": "04LNU-uSJN4R"
      },
      "execution_count": null,
      "outputs": []
    },
    {
      "cell_type": "markdown",
      "source": [
        "Drop \"research\" and \"university rating\" features and check if model prediction is improved "
      ],
      "metadata": {
        "id": "f6tX7icdJkNr"
      }
    }
  ],
  "metadata": {
    "colab": {
      "name": "Graduate_Admission_Prediction.ipynb",
      "provenance": [],
      "include_colab_link": true
    },
    "kernelspec": {
      "display_name": "Python 3",
      "language": "python",
      "name": "python3"
    },
    "language_info": {
      "codemirror_mode": {
        "name": "ipython",
        "version": 3
      },
      "file_extension": ".py",
      "mimetype": "text/x-python",
      "name": "python",
      "nbconvert_exporter": "python",
      "pygments_lexer": "ipython3",
      "version": "3.7.4"
    }
  },
  "nbformat": 4,
  "nbformat_minor": 0
}