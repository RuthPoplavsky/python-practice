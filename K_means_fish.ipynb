{
  "cells": [
    {
      "cell_type": "markdown",
      "metadata": {
        "id": "view-in-github",
        "colab_type": "text"
      },
      "source": [
        "<a href=\"https://colab.research.google.com/github/alevant/mlcourse-Nov22/blob/main/Classification_and_K_means_fish.ipynb\" target=\"_parent\"><img src=\"https://colab.research.google.com/assets/colab-badge.svg\" alt=\"Open In Colab\"/></a>"
      ]
    },
    {
      "cell_type": "markdown",
      "id": "nervous-subscriber",
      "metadata": {
        "id": "nervous-subscriber"
      },
      "source": [
        "Performing K-Means clustering on Fish Market dataset with K = 7 (No. of fish species). Normalize dataset before clustering. Scikit Learn is used for clustering. Collecting the best possible  combination and assignment in clusters and performance comparison with the true class labels (Species)? Describing results.\n",
        "\n"
      ]
    },
    {
      "cell_type": "markdown",
      "source": [
        "Import packages\n",
        "\n"
      ],
      "metadata": {
        "id": "2wHvHjolQ51Q"
      },
      "id": "2wHvHjolQ51Q"
    },
    {
      "cell_type": "code",
      "execution_count": null,
      "id": "marine-argument",
      "metadata": {
        "id": "marine-argument"
      },
      "outputs": [],
      "source": []
    },
    {
      "cell_type": "markdown",
      "source": [
        "Drop \"Species\" to perform unsupervised clustering "
      ],
      "metadata": {
        "id": "SrRe7WwARET7"
      },
      "id": "SrRe7WwARET7"
    },
    {
      "cell_type": "code",
      "execution_count": null,
      "id": "civilian-guarantee",
      "metadata": {
        "id": "civilian-guarantee"
      },
      "outputs": [],
      "source": []
    },
    {
      "cell_type": "markdown",
      "source": [
        "Scale the variable and perform clusterng"
      ],
      "metadata": {
        "id": "4cUfgTs8RTlE"
      },
      "id": "4cUfgTs8RTlE"
    },
    {
      "cell_type": "code",
      "execution_count": null,
      "id": "hungry-softball",
      "metadata": {
        "id": "hungry-softball"
      },
      "outputs": [],
      "source": []
    },
    {
      "cell_type": "markdown",
      "source": [
        "Now \"remeber\" that you actually know the real labels of each fish check your clustering performance.\n",
        "Since clustering just give arbitrary labels to each cluster you need to find out what which cluster corresponds to  which Spices."
      ],
      "metadata": {
        "id": "NgdxxBwPRobI"
      },
      "id": "NgdxxBwPRobI"
    },
    {
      "cell_type": "code",
      "source": [],
      "metadata": {
        "id": "OdXXoVKPSJma"
      },
      "id": "OdXXoVKPSJma",
      "execution_count": null,
      "outputs": []
    },
    {
      "cell_type": "markdown",
      "source": [
        "Calculate accuray of your clustering"
      ],
      "metadata": {
        "id": "QUS7KfJQSKME"
      },
      "id": "QUS7KfJQSKME"
    },
    {
      "cell_type": "code",
      "execution_count": null,
      "id": "demonstrated-confidentiality",
      "metadata": {
        "id": "demonstrated-confidentiality"
      },
      "outputs": [],
      "source": []
    },
    {
      "cell_type": "markdown",
      "source": [
        "Calcuate and show confusion matrix using heatmap function from seaborn"
      ],
      "metadata": {
        "id": "TpC25wbpSXRD"
      },
      "id": "TpC25wbpSXRD"
    },
    {
      "cell_type": "code",
      "source": [],
      "metadata": {
        "id": "SL7RqzgVSWyB"
      },
      "id": "SL7RqzgVSWyB",
      "execution_count": null,
      "outputs": []
    },
    {
      "cell_type": "markdown",
      "id": "adult-minutes",
      "metadata": {
        "id": "adult-minutes"
      },
      "source": [
        "\n",
        "Explain the results\n",
        "\n"
      ]
    }
  ],
  "metadata": {
    "kernelspec": {
      "display_name": "Python 3",
      "language": "python",
      "name": "python3"
    },
    "language_info": {
      "codemirror_mode": {
        "name": "ipython",
        "version": 3
      },
      "file_extension": ".py",
      "mimetype": "text/x-python",
      "name": "python",
      "nbconvert_exporter": "python",
      "pygments_lexer": "ipython3",
      "version": "3.6.12"
    },
    "colab": {
      "provenance": [],
      "include_colab_link": true
    }
  },
  "nbformat": 4,
  "nbformat_minor": 5
}