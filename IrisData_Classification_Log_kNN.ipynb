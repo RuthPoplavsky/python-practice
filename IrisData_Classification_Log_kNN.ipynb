{
  "cells": [
    {
      "cell_type": "markdown",
      "metadata": {
        "id": "view-in-github",
        "colab_type": "text"
      },
      "source": [
        "<a href=\"https://colab.research.google.com/github/alevant/mlcourse-Nov22/blob/main/IrisData_Classification_Log_kNN.ipynb\" target=\"_parent\"><img src=\"https://colab.research.google.com/assets/colab-badge.svg\" alt=\"Open In Colab\"/></a>"
      ]
    },
    {
      "cell_type": "markdown",
      "id": "nervous-subscriber",
      "metadata": {
        "id": "nervous-subscriber"
      },
      "source": [
        "In this notebook we will classify Iris data. The Iris data set consists of:\n",
        "\n",
        "150 samples\n",
        "3 labels: species of Iris (Iris setosa, Iris virginica and Iris versicolor)\n",
        "4 features: Sepal length,Sepal width,Petal length,Petal Width in cm\n",
        "(see images of iris in img folder). Read iris data set:\n"
      ]
    },
    {
      "cell_type": "code",
      "source": [
        "from sklearn import datasets\n",
        "\n",
        "iris = datasets.load_iris()"
      ],
      "metadata": {
        "id": "Pq8qMl64d-K4"
      },
      "id": "Pq8qMl64d-K4",
      "execution_count": null,
      "outputs": []
    },
    {
      "cell_type": "markdown",
      "source": [
        "Import packages\n",
        "\n"
      ],
      "metadata": {
        "id": "2wHvHjolQ51Q"
      },
      "id": "2wHvHjolQ51Q"
    },
    {
      "cell_type": "code",
      "execution_count": null,
      "id": "marine-argument",
      "metadata": {
        "id": "marine-argument"
      },
      "outputs": [],
      "source": []
    },
    {
      "cell_type": "markdown",
      "source": [
        "Show data set using seaborn pairplot"
      ],
      "metadata": {
        "id": "loLYb6kSenZI"
      },
      "id": "loLYb6kSenZI"
    },
    {
      "cell_type": "code",
      "source": [],
      "metadata": {
        "id": "QAgjVQTZetg8"
      },
      "id": "QAgjVQTZetg8",
      "execution_count": null,
      "outputs": []
    },
    {
      "cell_type": "markdown",
      "source": [
        "Split data to train and test"
      ],
      "metadata": {
        "id": "SrRe7WwARET7"
      },
      "id": "SrRe7WwARET7"
    },
    {
      "cell_type": "code",
      "execution_count": null,
      "id": "civilian-guarantee",
      "metadata": {
        "id": "civilian-guarantee"
      },
      "outputs": [],
      "source": []
    },
    {
      "cell_type": "markdown",
      "source": [
        "Train:\n",
        "1) logistic regression classifier\n",
        "2) k-NN classifier\n",
        "Show for them: confusion matrix and classification report. Which one performed better?"
      ],
      "metadata": {
        "id": "4cUfgTs8RTlE"
      },
      "id": "4cUfgTs8RTlE"
    },
    {
      "cell_type": "code",
      "source": [],
      "metadata": {
        "id": "P34B_WIZfNIZ"
      },
      "id": "P34B_WIZfNIZ",
      "execution_count": null,
      "outputs": []
    },
    {
      "cell_type": "markdown",
      "id": "adult-minutes",
      "metadata": {
        "id": "adult-minutes"
      },
      "source": [
        "\n",
        "Explain the results\n",
        "\n"
      ]
    }
  ],
  "metadata": {
    "kernelspec": {
      "display_name": "Python 3",
      "language": "python",
      "name": "python3"
    },
    "language_info": {
      "codemirror_mode": {
        "name": "ipython",
        "version": 3
      },
      "file_extension": ".py",
      "mimetype": "text/x-python",
      "name": "python",
      "nbconvert_exporter": "python",
      "pygments_lexer": "ipython3",
      "version": "3.6.12"
    },
    "colab": {
      "provenance": [],
      "include_colab_link": true
    }
  },
  "nbformat": 4,
  "nbformat_minor": 5
}